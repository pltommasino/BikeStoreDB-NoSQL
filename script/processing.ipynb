{
 "cells": [
  {
   "cell_type": "markdown",
   "metadata": {},
   "source": [
    "# **PREPARE DATA FOR NOSQL TOOLS**"
   ]
  },
  {
   "cell_type": "code",
   "execution_count": 28,
   "metadata": {},
   "outputs": [],
   "source": [
    "#Import MongoClient from pymongo module to connect to MongoDB\n",
    "from pymongo import MongoClient\n",
    "#Import the os module to interact with the operating system\n",
    "import os\n",
    "#Import the load_dotenv function from the dotenv module\n",
    "from dotenv import load_dotenv"
   ]
  },
  {
   "cell_type": "markdown",
   "metadata": {},
   "source": [
    "## **DATA**"
   ]
  },
  {
   "cell_type": "code",
   "execution_count": 2,
   "metadata": {},
   "outputs": [],
   "source": [
    "import pandas as pd\n",
    "brands = pd.read_csv(\"../data/brands.csv\")\n",
    "categories = pd.read_csv(\"../data/categories.csv\")\n",
    "customers = pd.read_csv(\"../data/customers.csv\")\n",
    "order_items = pd.read_csv(\"../data/order_items.csv\")\n",
    "orders = pd.read_csv(\"../data/orders.csv\")\n",
    "products = pd.read_csv(\"../data/products.csv\")\n",
    "staffs = pd.read_csv(\"../data/staffs.csv\")\n",
    "stocks = pd.read_csv(\"../data/stocks.csv\")\n",
    "stores = pd.read_csv(\"../data/stores.csv\")"
   ]
  },
  {
   "cell_type": "markdown",
   "metadata": {},
   "source": [
    "## **PROCESSING**"
   ]
  },
  {
   "cell_type": "code",
   "execution_count": 29,
   "metadata": {},
   "outputs": [
    {
     "name": "stdout",
     "output_type": "stream",
     "text": [
      "['BikeStoreDB', 'blog', 'admin', 'local']\n"
     ]
    }
   ],
   "source": [
    "#Load environment variables from the .env file\n",
    "load_dotenv()\n",
    "\n",
    "#Get MongoDB connection URI from environment variables. The URI includes authentication credentials (username and password) and configuration options.\n",
    "mongodb_uri = os.getenv('MONGODB_URI_BIKESTOREDB')\n",
    "\n",
    "#Create a connection to the MongoDB Atlas cluster using the connection URI.\n",
    "client = MongoClient(mongodb_uri)\n",
    "\n",
    "#Print the list of database names available in the connected MongoDB cluster.\n",
    "print(client.list_database_names())"
   ]
  },
  {
   "cell_type": "code",
   "execution_count": 32,
   "metadata": {},
   "outputs": [
    {
     "name": "stdout",
     "output_type": "stream",
     "text": [
      "Database(MongoClient(host=['ac-4wvjqdd-shard-00-02.hoscnft.mongodb.net:27017', 'ac-4wvjqdd-shard-00-01.hoscnft.mongodb.net:27017', 'ac-4wvjqdd-shard-00-00.hoscnft.mongodb.net:27017'], document_class=dict, tz_aware=False, connect=True, retrywrites=True, w='majority', appname='Cluster-BikeStoreDB', authsource='admin', replicaset='atlas-fpu6lo-shard-0', tls=True), 'BikeStoreDB')\n"
     ]
    }
   ],
   "source": [
    "database= client.BikeStoreDB\n",
    "#collection = database\n",
    "print(database)"
   ]
  }
 ],
 "metadata": {
  "kernelspec": {
   "display_name": "base",
   "language": "python",
   "name": "python3"
  },
  "language_info": {
   "codemirror_mode": {
    "name": "ipython",
    "version": 3
   },
   "file_extension": ".py",
   "mimetype": "text/x-python",
   "name": "python",
   "nbconvert_exporter": "python",
   "pygments_lexer": "ipython3",
   "version": "3.11.6"
  }
 },
 "nbformat": 4,
 "nbformat_minor": 2
}
