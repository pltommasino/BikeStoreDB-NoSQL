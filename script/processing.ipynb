{
 "cells": [
  {
   "cell_type": "markdown",
   "metadata": {},
   "source": [
    "# **PREPARE DATA FOR NOSQL TOOLS**"
   ]
  },
  {
   "cell_type": "code",
   "execution_count": 28,
   "metadata": {},
   "outputs": [],
   "source": [
    "#Import MongoClient from pymongo module to connect to MongoDB\n",
    "from pymongo import MongoClient\n",
    "#Import the os module to interact with the operating system\n",
    "import os\n",
    "#Import the load_dotenv function from the dotenv module\n",
    "from dotenv import load_dotenv\n",
    "#Import pandas for handling CSV files\n",
    "import pandas as pd"
   ]
  },
  {
   "cell_type": "markdown",
   "metadata": {},
   "source": [
    "## **DATA**"
   ]
  },
  {
   "cell_type": "code",
   "execution_count": 2,
   "metadata": {},
   "outputs": [],
   "source": [
    "import pandas as pd\n",
    "brands = pd.read_csv(\"../data/brands.csv\")\n",
    "categories = pd.read_csv(\"../data/categories.csv\")\n",
    "customers = pd.read_csv(\"../data/customers.csv\")\n",
    "order_items = pd.read_csv(\"../data/order_items.csv\")\n",
    "orders = pd.read_csv(\"../data/orders.csv\")\n",
    "products = pd.read_csv(\"../data/products.csv\")\n",
    "staffs = pd.read_csv(\"../data/staffs.csv\")\n",
    "stocks = pd.read_csv(\"../data/stocks.csv\")\n",
    "stores = pd.read_csv(\"../data/stores.csv\")"
   ]
  },
  {
   "cell_type": "markdown",
   "metadata": {},
   "source": [
    "## **PROCESSING**"
   ]
  },
  {
   "cell_type": "code",
   "execution_count": 29,
   "metadata": {},
   "outputs": [
    {
     "name": "stdout",
     "output_type": "stream",
     "text": [
      "['BikeStoreDB', 'blog', 'admin', 'local']\n"
     ]
    }
   ],
   "source": [
    "#Load environment variables from the .env file\n",
    "load_dotenv()\n",
    "\n",
    "#Get MongoDB connection URI from environment variables. The URI includes authentication credentials (username and password) and configuration options.\n",
    "mongodb_uri = os.getenv('MONGODB_URI_BIKESTOREDB')\n",
    "\n",
    "#Create a connection to the MongoDB Atlas cluster using the connection URI.\n",
    "client = MongoClient(mongodb_uri)\n",
    "\n",
    "#Print the list of database names available in the connected MongoDB cluster.\n",
    "print(client.list_database_names())"
   ]
  },
  {
   "cell_type": "code",
   "execution_count": 39,
   "metadata": {},
   "outputs": [
    {
     "name": "stdout",
     "output_type": "stream",
     "text": [
      "[]\n"
     ]
    }
   ],
   "source": [
    "#Select the database BikeStoreDB\n",
    "database = client.BikeStoreDB\n",
    "\n",
    "#For delete every collection in the database\n",
    "#for i in collections:\n",
    "#    database[i].drop()\n",
    "\n",
    "# List the collections in the database\n",
    "collections = database.list_collection_names()\n",
    "#Print database\n",
    "print(collections)"
   ]
  },
  {
   "cell_type": "code",
   "execution_count": 37,
   "metadata": {},
   "outputs": [],
   "source": [
    "from handling import import_csv_to_mongodb\n",
    "\n",
    "#Define the CSV file path...\n",
    "brands = \"../data/brands.csv\"\n",
    "categories = \"../data/categories.csv\"\n",
    "customers = \"../data/customers.csv\"\n",
    "order_items = \"../data/order_items.csv\"\n",
    "orders = \"../data/orders.csv\"\n",
    "products = \"../data/products.csv\"\n",
    "staffs = \"../data/staffs.csv\"\n",
    "stocks = \"../data/stocks.csv\"\n",
    "stores = \"../data/stores.csv\"\n",
    "#...and the collection name for the import in MongoDB\n",
    "collection_brands = \"Brands\"\n",
    "collection_categories = \"Categories\"\n",
    "collection_customers = \"Customers\"\n",
    "collection_order_items = \"Order_items\"\n",
    "collection_orders = \"Orders\"\n",
    "collection_products = \"Products\"\n",
    "collection_staffs = \"Staffs\"\n",
    "collection_stocks = \"Stocks\"\n",
    "collection_stores = \"Stores\"\n",
    "\n",
    "#Import the CSV data into MongoDB\n",
    "import_csv_to_mongodb(brands, collection_brands)\n",
    "import_csv_to_mongodb(categories, collection_categories)\n",
    "import_csv_to_mongodb(customers, collection_customers)\n",
    "import_csv_to_mongodb(order_items, collection_order_items)\n",
    "import_csv_to_mongodb(orders, collection_orders)"
   ]
  }
 ],
 "metadata": {
  "kernelspec": {
   "display_name": "base",
   "language": "python",
   "name": "python3"
  },
  "language_info": {
   "codemirror_mode": {
    "name": "ipython",
    "version": 3
   },
   "file_extension": ".py",
   "mimetype": "text/x-python",
   "name": "python",
   "nbconvert_exporter": "python",
   "pygments_lexer": "ipython3",
   "version": "3.11.6"
  }
 },
 "nbformat": 4,
 "nbformat_minor": 2
}
